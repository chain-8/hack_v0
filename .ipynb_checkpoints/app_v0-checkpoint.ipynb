{
 "cells": [
  {
   "cell_type": "code",
   "execution_count": 1,
   "id": "af399eba",
   "metadata": {},
   "outputs": [],
   "source": [
    "import os\n",
    "FMP_API_KEY = os.getenv(\"FMP_API_KEY\")"
   ]
  },
  {
   "cell_type": "code",
   "execution_count": 2,
   "id": "f086ff78",
   "metadata": {},
   "outputs": [
    {
     "name": "stdout",
     "output_type": "stream",
     "text": [
      "REMOVED\n"
     ]
    }
   ],
   "source": [
    "#Check\n",
    "print(FMP_API_KEY)"
   ]
  },
  {
   "cell_type": "code",
   "execution_count": 4,
   "id": "09df5438",
   "metadata": {},
   "outputs": [],
   "source": [
    "import requests"
   ]
  },
  {
   "cell_type": "code",
   "execution_count": 6,
   "id": "8df53b56",
   "metadata": {},
   "outputs": [],
   "source": [
    "# list of all stock exchanges\n",
    "\n",
    "url = f'https://financialmodelingprep.com/api/v3/stock/list?apikey={FMP_API_KEY}'"
   ]
  },
  {
   "cell_type": "code",
   "execution_count": 9,
   "id": "c4365946",
   "metadata": {},
   "outputs": [
    {
     "name": "stdout",
     "output_type": "stream",
     "text": [
      "https://financialmodelingprep.com/api/v3/stock/list?apikey=REMOVED\n"
     ]
    }
   ],
   "source": [
    "#Check\n",
    "print(url)"
   ]
  },
  {
   "cell_type": "code",
   "execution_count": 10,
   "id": "e91ef153",
   "metadata": {},
   "outputs": [
    {
     "name": "stdout",
     "output_type": "stream",
     "text": [
      "<Response [200]>\n"
     ]
    }
   ],
   "source": [
    "response = requests.get(url)\n",
    "\n",
    "print(response)"
   ]
  },
  {
   "cell_type": "code",
   "execution_count": 12,
   "id": "8ff70073",
   "metadata": {},
   "outputs": [
    {
     "name": "stdout",
     "output_type": "stream",
     "text": [
      "[{'symbol': 'PMGOLD.AX', 'name': 'Perth Mint Gold', 'price': 17.94, 'exchange': 'Australian Securities Exchange', 'exchangeShortName': 'ASX', 'type': 'etf'}, {'symbol': 'CTRE', 'name': 'CareTrust REIT, Inc.', 'price': 30.86, 'exchange': 'New York Stock Exchange', 'exchangeShortName': 'NYSE', 'type': 'stock'}, {'symbol': 'STNG', 'name': 'Scorpio Tankers Inc.', 'price': 53.8, 'exchange': 'New York Stock Exchange', 'exchangeShortName': 'NYSE', 'type': 'stock'}, {'symbol': 'NEE', 'name': 'NextEra Energy, Inc.', 'price': 76.86, 'exchange': 'New York Stock Exchange', 'exchangeShortName': 'NYSE', 'type': 'stock'}, {'symbol': 'VST', 'name': 'Vistra Corp.', 'price': 139.15, 'exchange': 'New York Stock Exchange', 'exchangeShortName': 'NYSE', 'type': 'stock'}, {'symbol': 'AETH', 'name': 'Bitwise Funds Trust', 'price': 37.4001, 'exchange': 'NASDAQ Global Select', 'exchangeShortName': 'NASDAQ', 'type': 'etf'}, {'symbol': 'RYAM', 'name': 'Rayonier Advanced Materials Inc.', 'price': 10.01, 'exchange': 'New York Stock Exchange', 'exchangeShortName': 'NYSE', 'type': 'stock'}, {'symbol': 'LC', 'name': 'LendingClub Corporation', 'price': 14.975, 'exchange': 'New York Stock Exchange', 'exchangeShortName': 'NYSE', 'type': 'stock'}, {'symbol': 'PM', 'name': 'Philip Morris International Inc.', 'price': 125.93, 'exchange': 'New York Stock Exchange', 'exchangeShortName': 'NYSE', 'type': 'stock'}, {'symbol': 'CERT', 'name': 'Certara, Inc.', 'price': 10.9, 'exchange': 'NASDAQ Global Select', 'exchangeShortName': 'NASDAQ', 'type': 'stock'}]\n"
     ]
    }
   ],
   "source": [
    "data = response.json()\n",
    "print(data[:10])"
   ]
  }
 ],
 "metadata": {
  "kernelspec": {
   "display_name": "Python 3 (ipykernel)",
   "language": "python",
   "name": "python3"
  },
  "language_info": {
   "codemirror_mode": {
    "name": "ipython",
    "version": 3
   },
   "file_extension": ".py",
   "mimetype": "text/x-python",
   "name": "python",
   "nbconvert_exporter": "python",
   "pygments_lexer": "ipython3",
   "version": "3.11.2"
  }
 },
 "nbformat": 4,
 "nbformat_minor": 5
}
