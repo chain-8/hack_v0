{
 "cells": [
  {
   "cell_type": "code",
   "execution_count": 9,
   "id": "af399eba",
   "metadata": {
    "jupyter": {
     "source_hidden": true
    }
   },
   "outputs": [],
   "source": [
    "#import libraries and declare variables\n",
    "\n",
    "import requests\n",
    "import os\n",
    "import pandas as pd\n",
    "from dotenv import load_dotenv\n",
    "from dash import Dash, html, dash_table, dcc\n",
    "\n",
    "load_dotenv()\n",
    "FMP_API_KEY = os.getenv(\"FMP_API_KEY\")"
   ]
  },
  {
   "cell_type": "code",
   "execution_count": 10,
   "id": "d520242a-78bb-4420-876b-d82dd0a38348",
   "metadata": {
    "jupyter": {
     "source_hidden": true
    },
    "scrolled": true
   },
   "outputs": [],
   "source": [
    "#fetch data from api and store it in df\n",
    "\n",
    "url = f\"https://financialmodelingprep.com/api/v3/symbol/available-indexes?apikey={FMP_API_KEY}\"\n",
    "response=requests.get(url)\n",
    "\n",
    "df = pd.DataFrame(response.json())"
   ]
  },
  {
   "cell_type": "code",
   "execution_count": 11,
   "id": "5809c505-5d25-46c5-8953-763ceecd5a5b",
   "metadata": {
    "jupyter": {
     "source_hidden": true
    }
   },
   "outputs": [],
   "source": [
    "#applayout\n",
    "\n",
    "app = Dash()\n",
    "app.layout = html.Div([\n",
    "    html.Header(\n",
    "        html.H1(\"Heading\")\n",
    "    ),\n",
    "\n",
    "    dcc.Tabs([\n",
    "\n",
    "        dcc.Tab(\n",
    "            label=\"Tab 1\"\n",
    "        ),\n",
    "        dcc.Tab(\n",
    "            label=\"Tab 2\"\n",
    "        ),\n",
    "        dcc.Tab(\n",
    "            label=\"Tab 3\"\n",
    "        )\n",
    "\n",
    "\n",
    "        \n",
    "    ]),\n",
    "\n",
    "    html.Div()\n",
    "\n",
    "    \n",
    "],\n",
    "id=\"main container\",                       \n",
    "style={\n",
    "    \"backgroundColor\": \"black\",\n",
    "    \"color\": \"white\",\n",
    "    \"border\": \"2px solid white\",\n",
    "    \"width\": \"100vw\",  # Full viewport width\n",
    "    \"height\": \"100vh\",  # Full viewport height\n",
    "    \"display\": \"flex\",\n",
    "    \"flexDirection\": \"column\"\n",
    "})"
   ]
  },
  {
   "cell_type": "code",
   "execution_count": 12,
   "id": "21db0ee4-ab15-4f38-a00d-aed758961bd1",
   "metadata": {
    "jupyter": {
     "source_hidden": true
    },
    "scrolled": true
   },
   "outputs": [
    {
     "data": {
      "text/html": [
       "\n",
       "        <iframe\n",
       "            width=\"100%\"\n",
       "            height=\"650\"\n",
       "            src=\"http://127.0.0.1:8050/\"\n",
       "            frameborder=\"0\"\n",
       "            allowfullscreen\n",
       "            \n",
       "        ></iframe>\n",
       "        "
      ],
      "text/plain": [
       "<IPython.lib.display.IFrame at 0x7f3df409ca50>"
      ]
     },
     "metadata": {},
     "output_type": "display_data"
    }
   ],
   "source": [
    "#run application\n",
    "\n",
    "if __name__ == '__main__':\n",
    "    app.run(debug=True)"
   ]
  },
  {
   "cell_type": "code",
   "execution_count": null,
   "id": "b5119153-38aa-4da6-8895-9f563a21ad15",
   "metadata": {},
   "outputs": [],
   "source": []
  },
  {
   "cell_type": "code",
   "execution_count": null,
   "id": "8b8c1cef-a4c4-4817-a612-c1094dd233a4",
   "metadata": {},
   "outputs": [],
   "source": []
  }
 ],
 "metadata": {
  "kernelspec": {
   "display_name": "Python 3 (ipykernel)",
   "language": "python",
   "name": "python3"
  },
  "language_info": {
   "codemirror_mode": {
    "name": "ipython",
    "version": 3
   },
   "file_extension": ".py",
   "mimetype": "text/x-python",
   "name": "python",
   "nbconvert_exporter": "python",
   "pygments_lexer": "ipython3",
   "version": "3.13.0"
  }
 },
 "nbformat": 4,
 "nbformat_minor": 5
}
