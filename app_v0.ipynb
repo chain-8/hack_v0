{
 "cells": [
  {
   "cell_type": "code",
   "execution_count": 1,
   "id": "af399eba",
   "metadata": {},
   "outputs": [],
   "source": [
    "import os\n",
    "FMP_API_KEY = os.getenv(\"FMP_API_KEY\")"
   ]
  },
  {
   "cell_type": "code",
   "execution_count": 2,
   "id": "f086ff78",
   "metadata": {},
   "outputs": [
    {
     "name": "stdout",
     "output_type": "stream",
     "text": [
      "REMOVED\n"
     ]
    }
   ],
   "source": [
    "#Check\n",
    "print(FMP_API_KEY)"
   ]
  },
  {
   "cell_type": "code",
   "execution_count": 3,
   "id": "09df5438",
   "metadata": {},
   "outputs": [],
   "source": [
    "import requests"
   ]
  },
  {
   "cell_type": "code",
   "execution_count": 4,
   "id": "8df53b56",
   "metadata": {},
   "outputs": [],
   "source": [
    "# list of all stock exchanges\n",
    "\n",
    "url = f'https://financialmodelingprep.com/api/v3/stock/list?apikey={FMP_API_KEY}'"
   ]
  },
  {
   "cell_type": "code",
   "execution_count": 5,
   "id": "c4365946",
   "metadata": {},
   "outputs": [
    {
     "name": "stdout",
     "output_type": "stream",
     "text": [
      "https://financialmodelingprep.com/api/v3/stock/list?apikey=REMOVED\n"
     ]
    }
   ],
   "source": [
    "#Check\n",
    "print(url)"
   ]
  },
  {
   "cell_type": "code",
   "execution_count": 7,
   "id": "e91ef153",
   "metadata": {},
   "outputs": [],
   "source": [
    "response = requests.get(url)"
   ]
  },
  {
   "cell_type": "code",
   "execution_count": 9,
   "id": "3d0e9eac",
   "metadata": {},
   "outputs": [
    {
     "name": "stdout",
     "output_type": "stream",
     "text": [
      "<Response [200]>\n"
     ]
    }
   ],
   "source": [
    "# Check\n",
    "print(response)"
   ]
  },
  {
   "cell_type": "code",
   "execution_count": 8,
   "id": "8ff70073",
   "metadata": {
    "scrolled": true
   },
   "outputs": [
    {
     "name": "stdout",
     "output_type": "stream",
     "text": [
      "[{'symbol': 'PMGOLD.AX', 'name': 'Perth Mint Gold', 'price': 17.94, 'exchange': 'Australian Securities Exchange', 'exchangeShortName': 'ASX', 'type': 'etf'}, {'symbol': 'CADE', 'name': 'Cadence Bank', 'price': 38.165, 'exchange': 'New York Stock Exchange', 'exchangeShortName': 'NYSE', 'type': 'stock'}, {'symbol': 'OKE', 'name': 'ONEOK, Inc.', 'price': 106.945, 'exchange': 'New York Stock Exchange', 'exchangeShortName': 'NYSE', 'type': 'stock'}, {'symbol': 'KBWB', 'name': 'Invesco KBW Bank ETF', 'price': 68.095, 'exchange': 'NASDAQ Global Market', 'exchangeShortName': 'NASDAQ', 'type': 'etf'}, {'symbol': 'MDU', 'name': 'MDU Resources Group, Inc.', 'price': 18.135, 'exchange': 'New York Stock Exchange', 'exchangeShortName': 'NYSE', 'type': 'stock'}, {'symbol': 'ARVN', 'name': 'Arvinas, Inc.', 'price': 27.17, 'exchange': 'NASDAQ Global Select', 'exchangeShortName': 'NASDAQ', 'type': 'stock'}, {'symbol': 'NVA.TO', 'name': 'NuVista Energy Ltd.', 'price': 12.64, 'exchange': 'Toronto Stock Exchange', 'exchangeShortName': 'TSX', 'type': 'stock'}, {'symbol': 'CKPT', 'name': 'Checkpoint Therapeutics, Inc.', 'price': 3.295, 'exchange': 'NASDAQ Capital Market', 'exchangeShortName': 'NASDAQ', 'type': 'stock'}, {'symbol': 'FTV', 'name': 'Fortive Corporation', 'price': 74.745, 'exchange': 'New York Stock Exchange', 'exchangeShortName': 'NYSE', 'type': 'stock'}, {'symbol': 'CDW', 'name': 'CDW Corporation', 'price': 198.54, 'exchange': 'NASDAQ Global Select', 'exchangeShortName': 'NASDAQ', 'type': 'stock'}]\n"
     ]
    }
   ],
   "source": [
    "data = response.json()\n",
    "print(data[:10])"
   ]
  },
  {
   "cell_type": "code",
   "execution_count": 1,
   "id": "df106e0f",
   "metadata": {},
   "outputs": [],
   "source": [
    "import dash"
   ]
  }
 ],
 "metadata": {
  "kernelspec": {
   "display_name": "Python 3 (ipykernel)",
   "language": "python",
   "name": "python3"
  },
  "language_info": {
   "codemirror_mode": {
    "name": "ipython",
    "version": 3
   },
   "file_extension": ".py",
   "mimetype": "text/x-python",
   "name": "python",
   "nbconvert_exporter": "python",
   "pygments_lexer": "ipython3",
   "version": "3.11.2"
  }
 },
 "nbformat": 4,
 "nbformat_minor": 5
}
